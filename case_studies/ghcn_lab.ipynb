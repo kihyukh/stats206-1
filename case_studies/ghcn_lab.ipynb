{
 "cells": [
  {
   "cell_type": "markdown",
   "metadata": {},
   "source": [
    "# Workbook for GHCN data"
   ]
  },
  {
   "cell_type": "markdown",
   "metadata": {},
   "source": [
    "The following code will get you set up to work with this dataset."
   ]
  },
  {
   "cell_type": "code",
   "execution_count": null,
   "metadata": {},
   "outputs": [],
   "source": [
    "import pandas as pd\n",
    "import numpy as np\n",
    "import matplotlib.pyplot as plt\n",
    "import seaborn as sns\n",
    "import statsmodels.api as sm\n",
    "import os"
   ]
  },
  {
   "cell_type": "code",
   "execution_count": null,
   "metadata": {},
   "outputs": [],
   "source": [
    "from pandas.plotting import register_matplotlib_converters\n",
    "register_matplotlib_converters()"
   ]
  },
  {
   "cell_type": "code",
   "execution_count": null,
   "metadata": {},
   "outputs": [],
   "source": [
    "base = \"/scratch/stats206w21_class_root/stats206w21_class/shared_data/datasets\"\n",
    "df = pd.read_csv(os.path.join(base, \"ghcnd_gsn.csv.gz\"))"
   ]
  },
  {
   "cell_type": "code",
   "execution_count": null,
   "metadata": {},
   "outputs": [],
   "source": [
    "df[\"date\"] = pd.to_datetime(df[\"date\"])"
   ]
  },
  {
   "cell_type": "markdown",
   "metadata": {},
   "source": [
    "Take the daily minimum temperature values (tmin) from the month of\n",
    "January, and consider whether within each station the values are\n",
    "predominantly left skewed or predominantly right skewed."
   ]
  },
  {
   "cell_type": "code",
   "execution_count": null,
   "metadata": {},
   "outputs": [],
   "source": [
    "0"
   ]
  },
  {
   "cell_type": "markdown",
   "metadata": {},
   "source": [
    "Perform the same analysis for another month, and for the daily\n",
    "maximum temperature values.  How would you describe and interpret\n",
    "these findings?"
   ]
  },
  {
   "cell_type": "code",
   "execution_count": null,
   "metadata": {},
   "outputs": [],
   "source": [
    "0"
   ]
  },
  {
   "cell_type": "markdown",
   "metadata": {},
   "source": [
    "The conditional standard deviation of $Y$ given $X$ is the standard\n",
    "deviation of $Y$ calculated for a subset of the sample in which $X$\n",
    "is close to a specified reference value.  For our purposes, $Y$ will\n",
    "be the daily maximum temperature, and $X$ will be the latitude,\n",
    "elevation, and month.  What is the conditional standard deviation\n",
    "for latitude 20, elevation 0, and month January?  You will have to\n",
    "use your judgment to decide which data values are \"close\" to the\n",
    "reference point."
   ]
  },
  {
   "cell_type": "code",
   "execution_count": null,
   "metadata": {},
   "outputs": [],
   "source": [
    "0"
   ]
  },
  {
   "cell_type": "markdown",
   "metadata": {},
   "source": [
    "Repeat the previous exercise for elevation 1500 and month April,\n",
    "ignoring latitude."
   ]
  },
  {
   "cell_type": "code",
   "execution_count": null,
   "metadata": {},
   "outputs": [],
   "source": [
    "0"
   ]
  },
  {
   "cell_type": "markdown",
   "metadata": {},
   "source": [
    "Calculate the interdecile range (IDR) of daily maximum temperature\n",
    "values for each station within each year.  Then calculate the median\n",
    "IDR for each year (over the stations).  Display these median IDR\n",
    "values from year 1970 onward and comment about any trends that may\n",
    "be evident."
   ]
  },
  {
   "cell_type": "code",
   "execution_count": null,
   "metadata": {},
   "outputs": [],
   "source": [
    "0"
   ]
  },
  {
   "cell_type": "markdown",
   "metadata": {},
   "source": [
    "Use loess to estimate the conditional mean of the daily maximum\n",
    "temperature as a function of latitude, using data from January.\n",
    "Then form residuals from the observed daily maximum temperature\n",
    "values with respect to these conditional means.  What are the\n",
    "average residuals for stations in the northern and southern\n",
    "hemispheres, respectively?"
   ]
  },
  {
   "cell_type": "code",
   "execution_count": null,
   "metadata": {},
   "outputs": [],
   "source": [
    "0"
   ]
  }
 ],
 "metadata": {
  "jupytext": {
   "cell_metadata_filter": "-all",
   "main_language": "python",
   "notebook_metadata_filter": "-all"
  }
 },
 "nbformat": 4,
 "nbformat_minor": 2
}
