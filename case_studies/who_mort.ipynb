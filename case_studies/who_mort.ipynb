{
 "cells": [
  {
   "cell_type": "markdown",
   "metadata": {},
   "source": [
    "# World Health Organization mortality data"
   ]
  },
  {
   "cell_type": "markdown",
   "metadata": {},
   "source": [
    "The WHO assimilates and harmonizes mortality data for most countries\n",
    "in the world.  These data include \"all cause\" (total) mortality,\n",
    "as well as cause-specific mortality (e.g. mortality due to cancer).\n",
    "Here we will focus on the all-cause mortality data, for a subset of\n",
    "countries with data that are mostly complete."
   ]
  },
  {
   "cell_type": "markdown",
   "metadata": {},
   "source": [
    "The data considered were obtained from the site below, which\n",
    "also provides documentation about the data.\n",
    "\n",
    "https://www.who.int/healthinfo/statistics/mortality_rawdata/en/"
   ]
  },
  {
   "cell_type": "markdown",
   "metadata": {},
   "source": [
    "Many important research efforts involve analysis of this type of\n",
    "data.  In general, mortality has declined over the past 100 years,\n",
    "but it has declined much faster in some regions and within some\n",
    "demographic subgroups than in others.  Also, mortality due to some\n",
    "causes has declined much faster than others."
   ]
  },
  {
   "cell_type": "markdown",
   "metadata": {},
   "source": [
    "One important use for mortality data is to establish the range of\n",
    "deaths that would be considered \"expected\".  When the number of\n",
    "deaths exceeds this level, this becomes a state of \"excess\n",
    "mortality\".  In modern times, excess mortality almost always results\n",
    "from infectious diseases, especially influenza, and now including\n",
    "COVID-19."
   ]
  },
  {
   "cell_type": "markdown",
   "metadata": {},
   "source": [
    "It usually makes sense to compare death rates (mortality relative to\n",
    "population), which is a proportion, rather than the absolute number\n",
    "of deaths, since the number of deaths is strongly related to the\n",
    "underlying population size.  The WHO reports both the number of\n",
    "people who die within each demographic group per country/year, and\n",
    "the population sizes of these groups.  We can form a proportion from\n",
    "these two numbers.  Here, a demographic group is defined by an age\n",
    "band (e.g. 70-75 years) and sex (female or male)."
   ]
  },
  {
   "cell_type": "markdown",
   "metadata": {},
   "source": [
    "We will focus here on the use of Z-scores for comparing proportions.\n",
    "Suppose we have two proportions derived from data, $\\hat{p}$ and\n",
    "$\\hat{q}$, representing the proportions of women and men between 70\n",
    "and 75 who die each year.  These proportions have population\n",
    "analogues $p$ and $q$ that we do not know.  The best possible\n",
    "measure of the difference in sex-specific death rates is $p-q$, and\n",
    "the \"plug-in\" estimate of this quantity is $\\hat{p} - \\hat{q}$."
   ]
  },
  {
   "cell_type": "markdown",
   "metadata": {},
   "source": [
    "Since $\\hat{p} - \\hat{q}$ is an estimate, it has an error associated\n",
    "with it, whose typical size is quantified by the standard error.\n",
    "The standard error here is $\\sqrt{p(1-p)/m + q(1-q)/n}$, where $m$\n",
    "and $n$ are the sample sizes for women and men, respectively.  Again\n",
    "we \"plug-in\" the estimates of $p$ and $q$ and obtain an estimated\n",
    "standard error $\\sqrt{\\hat{p}(1-\\hat{p})/m + \\hat{q}(1-\\hat{q})/n}$."
   ]
  },
  {
   "cell_type": "markdown",
   "metadata": {},
   "source": [
    "Finally, we can obtain the Z-score, which as always is an estimate\n",
    "divided by its (estimated) standard error.\n",
    "\n",
    "$(\\hat{p}-\\hat{q}) / \\sqrt{\\hat{p}(1-\\hat{p})/m +\n",
    "\\hat{q}(1-\\hat{q})/n}$."
   ]
  },
  {
   "cell_type": "markdown",
   "metadata": {},
   "source": [
    "A Z-score is a measure of evidence that $p$ and $q$ are different.\n",
    "Observing a value of Z close to zero indicates no evidence for a\n",
    "difference.  Specifically, if Z is smaller than 2 in absolute value,\n",
    "there is no meaningful evidence for a difference, under the standard\n",
    "conventions for gauging evidence."
   ]
  },
  {
   "cell_type": "markdown",
   "metadata": {},
   "source": [
    "Here we will study Z-scores for several types of mortality rate\n",
    "comparisons, including comparisons between the sexes, and\n",
    "comparisons over time within sexes."
   ]
  },
  {
   "cell_type": "markdown",
   "metadata": {},
   "source": [
    "First, we import the libraries that we will need."
   ]
  },
  {
   "cell_type": "code",
   "execution_count": null,
   "metadata": {},
   "outputs": [],
   "source": [
    "import pandas as pd\n",
    "import numpy as np\n",
    "import os\n",
    "import matplotlib.pyplot as plt\n",
    "import seaborn as sns"
   ]
  },
  {
   "cell_type": "markdown",
   "metadata": {},
   "source": [
    "Next we read the dataset into a dataframe."
   ]
  },
  {
   "cell_type": "code",
   "execution_count": null,
   "metadata": {},
   "outputs": [],
   "source": [
    "base = \"/scratch/stats206w21_class_root/stats206w21_class/shared_data/datasets\"\n",
    "df = pd.read_csv(os.path.join(base, \"who_allcause.csv.gz\"))"
   ]
  },
  {
   "cell_type": "markdown",
   "metadata": {},
   "source": [
    "# Comparing death rates by sex"
   ]
  },
  {
   "cell_type": "markdown",
   "metadata": {},
   "source": [
    "In almost all settings, death rates for males are greater than death\n",
    "rates for females.  Here we will study the relationship between the\n",
    "female and male death rates."
   ]
  },
  {
   "cell_type": "markdown",
   "metadata": {},
   "source": [
    "The original data are in long form (one row per demographic cell /\n",
    "country / year).  We need to \"pivot\" on sex, so that the mortality\n",
    "counts and population sizes for women and men are in the same row,\n",
    "for a given age band, country, and year.  We do that by splitting\n",
    "the data by sex, then merging the files for women and for men."
   ]
  },
  {
   "cell_type": "markdown",
   "metadata": {},
   "source": [
    "First, select only the women.  We also rename some of the columns\n",
    "to make the column names unique."
   ]
  },
  {
   "cell_type": "code",
   "execution_count": null,
   "metadata": {},
   "outputs": [],
   "source": [
    "da_f = df.loc[df.Sex == 2, :]\n",
    "da_f = da_f.rename(columns={\"Pop\": \"Pop_f\", \"Deaths\": \"Deaths_f\"})\n",
    "da_f = da_f.drop([\"Sex\"], axis=1)"
   ]
  },
  {
   "cell_type": "markdown",
   "metadata": {},
   "source": [
    "Now, select only the men and perform the same renaming as above."
   ]
  },
  {
   "cell_type": "code",
   "execution_count": null,
   "metadata": {},
   "outputs": [],
   "source": [
    "da_m = df.loc[df.Sex == 1, :]\n",
    "da_m = da_m.rename(columns={\"Pop\": \"Pop_m\", \"Deaths\": \"Deaths_m\"})\n",
    "da_m = da_m.drop([\"Sex\"], axis=1)"
   ]
  },
  {
   "cell_type": "markdown",
   "metadata": {},
   "source": [
    "Now we can do the merge, aligning by country, year, and age."
   ]
  },
  {
   "cell_type": "code",
   "execution_count": null,
   "metadata": {},
   "outputs": [],
   "source": [
    "v = [\"Country\", \"Year\", \"Age\"]\n",
    "dx = pd.merge(da_m, da_f, left_on=v, right_on=v)"
   ]
  },
  {
   "cell_type": "markdown",
   "metadata": {},
   "source": [
    "Next we calculate the death rates (note that these are proportions):"
   ]
  },
  {
   "cell_type": "code",
   "execution_count": null,
   "metadata": {},
   "outputs": [],
   "source": [
    "dx[\"drate_f\"] = dx[\"Deaths_f\"] / dx[\"Pop_f\"]\n",
    "dx[\"drate_m\"] = dx[\"Deaths_m\"] / dx[\"Pop_m\"]"
   ]
  },
  {
   "cell_type": "markdown",
   "metadata": {},
   "source": [
    "Before proceeding, let's see what we can learn by exploring the\n",
    "death rates.  First we make a boxplot showing how the female death\n",
    "rates vary by age.  Recall that the numerical age values represent\n",
    "age bands, see the documentation for the exact age ranges.  The main\n",
    "insight here is that the death rate is higher for older people."
   ]
  },
  {
   "cell_type": "code",
   "execution_count": null,
   "metadata": {},
   "outputs": [],
   "source": [
    "sns.boxplot(x=\"Age\", y=\"drate_f\", data=dx)"
   ]
  },
  {
   "cell_type": "markdown",
   "metadata": {},
   "source": [
    "Sometimes a transformation reveals something that is otherwise\n",
    "hidden.  Below we make a boxplot of the square-root transformed\n",
    "proportions, and see that mortality is somewhat greater for very\n",
    "young children, compared to older children and young adults."
   ]
  },
  {
   "cell_type": "code",
   "execution_count": null,
   "metadata": {},
   "outputs": [],
   "source": [
    "dx[\"drate_f_sqrt\"] = np.sqrt(dx[\"drate_f\"])\n",
    "sns.boxplot(x=\"Age\", y=\"drate_f_sqrt\", data=dx)"
   ]
  },
  {
   "cell_type": "markdown",
   "metadata": {},
   "source": [
    "Next we make a scatterplot of the male death rates (vertical axis)\n",
    "against the female death rates (horizontal axis).  The trend\n",
    "(correlation) between female and male death rates reflects the fact\n",
    "that the places and times with higher death rate tend to have higher\n",
    "death rates for both sexes.  Nevertheless, there are some instances\n",
    "where the female and male death rates diverge.  We will return to\n",
    "this further below."
   ]
  },
  {
   "cell_type": "code",
   "execution_count": null,
   "metadata": {},
   "outputs": [],
   "source": [
    "plt.grid(True)\n",
    "sns.scatterplot(x=\"drate_f\", y=\"drate_m\", data=dx)\n",
    "plt.plot([0, 1], [0, 1], '-')"
   ]
  },
  {
   "cell_type": "markdown",
   "metadata": {},
   "source": [
    "A useful plot in this setting is a \"mean/difference plot\", sometimes\n",
    "called a \"volcano plot\".  This is a plot of the average between two\n",
    "quantities against their difference.  One observation we make here\n",
    "is that the instances where the female and male death rates are very\n",
    "different are all instances where the mean death rate is quite\n",
    "large.  This plot also makes it easy to see that it is more common\n",
    "that the male death rate exceeds the female death rate, rather than\n",
    "the other way around."
   ]
  },
  {
   "cell_type": "code",
   "execution_count": null,
   "metadata": {},
   "outputs": [],
   "source": [
    "dx[\"drate_diff\"] = dx[\"drate_f\"] - dx[\"drate_m\"]\n",
    "dx[\"drate_mean\"] = (dx[\"drate_f\"] + dx[\"drate_m\"]) / 2\n",
    "plt.grid(True)\n",
    "sns.scatterplot(x=\"drate_diff\", y=\"drate_mean\", data=dx)"
   ]
  },
  {
   "cell_type": "markdown",
   "metadata": {},
   "source": [
    "## Analysis considering statistical evidence and uncertainty"
   ]
  },
  {
   "cell_type": "markdown",
   "metadata": {},
   "source": [
    "Now we turn to an analysis that more completely considers the\n",
    "uncertainty in the data.  The key for understanding uncertainty is\n",
    "almost always the standard error.  To make it easier to calculate\n",
    "the standard error, we define variables containing the key terms in\n",
    "the standard error."
   ]
  },
  {
   "cell_type": "code",
   "execution_count": null,
   "metadata": {},
   "outputs": [],
   "source": [
    "p = dx[\"drate_f\"]\n",
    "q = dx[\"drate_m\"]\n",
    "m = dx[\"Pop_f\"]\n",
    "n = dx[\"Pop_m\"]"
   ]
  },
  {
   "cell_type": "markdown",
   "metadata": {},
   "source": [
    "Below we calculate the Z-score for the difference in death rates\n",
    "between women and men."
   ]
  },
  {
   "cell_type": "code",
   "execution_count": null,
   "metadata": {},
   "outputs": [],
   "source": [
    "dx[\"zdiff\"] = (p - q) / np.sqrt(p*(1-p)/m + q*(1-q)/n)"
   ]
  },
  {
   "cell_type": "markdown",
   "metadata": {},
   "source": [
    "A Z-score comparing two proportions is primarily influenced by three\n",
    "factors: (i) the difference between the underlying probabilities,\n",
    "i.e. $p - q$, (ii) the sample sizes $m$ and $n$, (iii) whether\n",
    "either or both of $p$ and $q$ are close to the boundary points 0 and\n",
    "1.\n",
    "\n",
    "The following relationships hold.  Don't worry about what numerical\n",
    "values correspond to \"small\" here.  The purpose is to recognize\n",
    "these important relationships.\n",
    "\n",
    "* If $p - q$ is zero then the $Z$ score will tend to be small, no matter how large the sample sizes are.\n",
    "* If $p - q$ is small but not zero, then $Z$ will tend to be small unless $m$ and $n$ are very large.\n",
    "* If $p - q$ is not small, then $Z$ may still be small if the sample sizes are small.\n",
    "* If $p - q$ is not small and the sample sizes $m$ and $n$ are both not small, then $Z$ will generally not be small.\n",
    "\n",
    "Point (iii) above is slightly more subtle, but for proportions, it\n",
    "is easier to establish that $p$ and $q$ are different if one of them\n",
    "is closer to 0 or 1."
   ]
  },
  {
   "cell_type": "markdown",
   "metadata": {},
   "source": [
    "The boxplots below show the distribution of Z-scores by country,\n",
    "focusing on instances where the sample size is small (less than\n",
    "50,000).  The boxes reflect the data for multiple years within each\n",
    "country, considering people of ages 70-75 only.  Since most of the\n",
    "Z-scores are around 2 or less (in magnitude) we see that in\n",
    "instances where we have fewer than 10,000 total people, there\n",
    "usually is not strong evidence for a difference between the female\n",
    "and male death rates.  As noted above, this could be because there\n",
    "truly is no difference in the population, or because the sample size\n",
    "is too small for us to be able to discern a difference.  The one\n",
    "exception here is country 4160 (Iceland), where there is strong\n",
    "evidence for greater mortality among males than among females, in\n",
    "spite of the sample sizes being small."
   ]
  },
  {
   "cell_type": "code",
   "execution_count": null,
   "metadata": {},
   "outputs": [],
   "source": [
    "plt.figure(figsize=(10, 5))\n",
    "dz = dx.loc[dx[\"Age\"] == 20, :]\n",
    "dz = dz.loc[dz[\"Pop_f\"] + dz[\"Pop_m\"] < 10000, :]\n",
    "sns.boxplot(x=\"Country\", y=\"zdiff\", data=dz)"
   ]
  },
  {
   "cell_type": "markdown",
   "metadata": {},
   "source": [
    "Now let's look at the analogous plot for instances where the sample\n",
    "size is quite large."
   ]
  },
  {
   "cell_type": "code",
   "execution_count": null,
   "metadata": {},
   "outputs": [],
   "source": [
    "plt.figure(figsize=(10, 5))\n",
    "dz = dx.loc[dx[\"Age\"] == 20, :]\n",
    "dz = dz.loc[dz[\"Pop_f\"] + dz[\"Pop_m\"] > 1000000, :]\n",
    "sns.boxplot(x=\"Country\", y=\"zdiff\", data=dz)"
   ]
  },
  {
   "cell_type": "markdown",
   "metadata": {},
   "source": [
    "Above it is clear that there is always strong evidence that\n",
    "mortality varies by sex, as long as we have data for more than one\n",
    "million people.  The scatterplot below shows how the Z-scores vary\n",
    "with sample size.  When the sample size is large, the Z-scores are\n",
    "always strongly negative, indicating strong evidence that male\n",
    "mortality is greater than female mortality."
   ]
  },
  {
   "cell_type": "code",
   "execution_count": null,
   "metadata": {},
   "outputs": [],
   "source": [
    "dz = dx.loc[dx.Age == 20, :].copy()\n",
    "dz[\"logpop\"] = np.log10(dz[\"Pop_f\"] + dz[\"Pop_m\"])\n",
    "plt.grid(True)\n",
    "sns.scatterplot(x=\"logpop\", y=\"zdiff\", data=dz)"
   ]
  },
  {
   "cell_type": "markdown",
   "metadata": {},
   "source": [
    "The plot above shows that consistently large Z-scores occur as long\n",
    "as the sample size is around 10,000 or greater.  There is\n",
    "uncertainty about whether mortality truly varies by sex for the\n",
    "smaller subgroups.  In general, if we collect a single dataset and\n",
    "observe, say, Z=-1, then this would not be seen as evidence for a\n",
    "difference.  But here, we have many related datasets (for different\n",
    "years and countries), and sex-specific differences are always\n",
    "present when the sample size is large.  While it is possible that\n",
    "the small subgroups are fundamentally different than the larger\n",
    "subgroups, and in the small subgroups there actually is no\n",
    "difference between female and male mortality, it seems more likely\n",
    "that sex differences in mortality exist in nearly all settings, but\n",
    "we lack power to detect them when the sample size is small."
   ]
  },
  {
   "cell_type": "markdown",
   "metadata": {},
   "source": [
    "We can also consider whether the evidence for sex-differences in\n",
    "mortality differs across the ages.  The boxplot below shows that\n",
    "there is strong evidence that males have higher mortality than\n",
    "females in every age band.  Even the magnitude of this evidence does\n",
    "not vary much with age."
   ]
  },
  {
   "cell_type": "code",
   "execution_count": null,
   "metadata": {},
   "outputs": [],
   "source": [
    "plt.figure(figsize=(8, 4))\n",
    "sns.boxplot(x=\"Year\", y=\"zdiff\", data=dz)"
   ]
  },
  {
   "cell_type": "markdown",
   "metadata": {},
   "source": [
    "__Note on very large Z-scores:__ Z-scores are mainly used to\n",
    "quantify evidence that two things are different, here the difference\n",
    "being between two proportions $p$ and $q$.  Z-scores larger than,\n",
    "say, 5 (in magnitude) constitute \"overwhelming evidence\" that the\n",
    "difference is real.  Once overwhelming evidence is observed, it is\n",
    "no longer very relevant exactly how large the Z-score is.  For\n",
    "example, it is questionable whether a Z-score of 20 should be\n",
    "treated as being much stronger than a Z-sore of 5.  But there is no\n",
    "doubt that a Z-score of 3 is stronger than a Z-score of 2."
   ]
  },
  {
   "cell_type": "markdown",
   "metadata": {},
   "source": [
    "# Comparing death rates over time"
   ]
  },
  {
   "cell_type": "markdown",
   "metadata": {},
   "source": [
    "Next we examine death rates over time, and specifically how the\n",
    "death rate compares between two different years, for each sex, age\n",
    "band, and country."
   ]
  },
  {
   "cell_type": "markdown",
   "metadata": {},
   "source": [
    "We will focus on people who are 70-75 years old:"
   ]
  },
  {
   "cell_type": "code",
   "execution_count": null,
   "metadata": {},
   "outputs": [],
   "source": [
    "dz = df.loc[df.Age == 20, :]"
   ]
  },
  {
   "cell_type": "markdown",
   "metadata": {},
   "source": [
    "These are the two years that we will compare:"
   ]
  },
  {
   "cell_type": "code",
   "execution_count": null,
   "metadata": {},
   "outputs": [],
   "source": [
    "year1 = 2009\n",
    "year2 = 2010"
   ]
  },
  {
   "cell_type": "markdown",
   "metadata": {},
   "source": [
    "Here we select the data for the first year of interest:"
   ]
  },
  {
   "cell_type": "code",
   "execution_count": null,
   "metadata": {},
   "outputs": [],
   "source": [
    "da = dz.loc[dz.Year == year1, :]\n",
    "da = da.rename(columns={\"Pop\": \"Pop1\", \"Deaths\": \"Deaths1\"})\n",
    "da = da.drop([\"Year\"], axis=1)"
   ]
  },
  {
   "cell_type": "markdown",
   "metadata": {},
   "source": [
    "Here we select the data for the second year of interest:"
   ]
  },
  {
   "cell_type": "code",
   "execution_count": null,
   "metadata": {},
   "outputs": [],
   "source": [
    "db = dz.loc[dz.Year == year2, :]\n",
    "db = db.rename(columns={\"Pop\": \"Pop2\", \"Deaths\": \"Deaths2\"})\n",
    "db = db.drop([\"Year\"], axis=1)"
   ]
  },
  {
   "cell_type": "markdown",
   "metadata": {},
   "source": [
    "Now we merge the datasets for the two years to form a wide-form\n",
    "dataset."
   ]
  },
  {
   "cell_type": "code",
   "execution_count": null,
   "metadata": {},
   "outputs": [],
   "source": [
    "v = [\"Country\", \"Sex\", \"Age\"]\n",
    "dx = pd.merge(da, db, left_on=v, right_on=v)"
   ]
  },
  {
   "cell_type": "markdown",
   "metadata": {},
   "source": [
    "Next we calculate the death rates for the two years of interest."
   ]
  },
  {
   "cell_type": "code",
   "execution_count": null,
   "metadata": {},
   "outputs": [],
   "source": [
    "dx[\"rate1\"] = dx[\"Deaths1\"] / dx[\"Pop1\"]\n",
    "dx[\"rate2\"] = dx[\"Deaths2\"] / dx[\"Pop2\"]"
   ]
  },
  {
   "cell_type": "markdown",
   "metadata": {},
   "source": [
    "Below we calculate the Z-scores comparing the death rates in two\n",
    "years."
   ]
  },
  {
   "cell_type": "code",
   "execution_count": null,
   "metadata": {},
   "outputs": [],
   "source": [
    "p = dx[\"rate1\"]\n",
    "q = dx[\"rate2\"]\n",
    "m = dx[\"Pop1\"]\n",
    "n = dx[\"Pop2\"]\n",
    "dx[\"zdiff\"] = (p - q) / np.sqrt(p*(1-p)/m + q*(1-q)/n)"
   ]
  },
  {
   "cell_type": "markdown",
   "metadata": {},
   "source": [
    "Now we plot the Z-scores against population.  You should explore\n",
    "where statistical differences emerge by changing the values of\n",
    "`year1` and `year2` above, and re-running the notebook.  You should\n",
    "see statistically strong reductions in mortality when comparing two\n",
    "years that are far apart, say 2000 and 2010, but much less evidence\n",
    "for a difference when comparing, say, 2009 and 2010.  The reason for\n",
    "this is that the improvement in mortality over 1 year is too small\n",
    "to provide strong statistical evidence."
   ]
  },
  {
   "cell_type": "code",
   "execution_count": null,
   "metadata": {},
   "outputs": [],
   "source": [
    "plt.grid(True)\n",
    "dx[\"logpop\"] = np.log10(dx[\"Pop1\"] + dx[\"Pop2\"])\n",
    "plt.grid(True)\n",
    "sns.scatterplot(x=\"logpop\", y=\"zdiff\", data=dx)"
   ]
  }
 ],
 "metadata": {
  "jupytext": {
   "cell_metadata_filter": "-all",
   "main_language": "python",
   "notebook_metadata_filter": "-all"
  }
 },
 "nbformat": 4,
 "nbformat_minor": 2
}
