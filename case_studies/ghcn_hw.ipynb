{
 "cells": [
  {
   "cell_type": "markdown",
   "metadata": {},
   "source": [
    "## Statistics 206, homework 3"
   ]
  },
  {
   "cell_type": "markdown",
   "metadata": {},
   "source": [
    "The code below will get you set up to do this homework set."
   ]
  },
  {
   "cell_type": "code",
   "execution_count": null,
   "metadata": {},
   "outputs": [],
   "source": [
    "import pandas as pd\n",
    "import numpy as np\n",
    "import matplotlib.pyplot as plt\n",
    "import seaborn as sns\n",
    "import statsmodels.api as sm\n",
    "import os\n",
    "\n",
    "from pandas.plotting import register_matplotlib_converters\n",
    "register_matplotlib_converters()\n",
    "\n",
    "base = \"/scratch/stats206f20_class_root/stats206f20_class/shared_data/datasets\"\n",
    "df = pd.read_csv(os.path.join(base, \"ghcnd_gsn.csv.gz\"))\n",
    "print(df.shape)\n",
    "\n",
    "df[\"date\"] = pd.to_datetime(df[\"date\"])\n",
    "df[\"month\"] = df[\"date\"].dt.month\n",
    "df[\"year\"] = df[\"date\"].dt.year"
   ]
  },
  {
   "cell_type": "markdown",
   "metadata": {},
   "source": [
    "1. For each month within each station, calculate the median of the\n",
    "daily minimum temperature values ('tmin').  Use this to answer the\n",
    "following questions."
   ]
  },
  {
   "cell_type": "code",
   "execution_count": null,
   "metadata": {},
   "outputs": [],
   "source": [
    "0"
   ]
  },
  {
   "cell_type": "markdown",
   "metadata": {},
   "source": [
    "1.1 For what proportion of the station-days is the daily minimum\n",
    "temperature more than 10 degrees C below the monthly median value\n",
    "for the station?"
   ]
  },
  {
   "cell_type": "code",
   "execution_count": null,
   "metadata": {},
   "outputs": [],
   "source": [
    "0"
   ]
  },
  {
   "cell_type": "markdown",
   "metadata": {},
   "source": [
    "1.2 Considering the stations in the northern and southern\n",
    "hemispheres separately, calculate the proportions from question 1.1\n",
    "by month.  Note which months have the least and greatest\n",
    "proportions, and comment on how the patterns of these proportions\n",
    "differ between the northern and southern hemispheres."
   ]
  },
  {
   "cell_type": "code",
   "execution_count": null,
   "metadata": {},
   "outputs": [],
   "source": [
    "0"
   ]
  },
  {
   "cell_type": "markdown",
   "metadata": {},
   "source": [
    "2. Study the following code and descibe in words what the value 'x'\n",
    "means.  Some of the methods used below have not been discussed in\n",
    "class.  You should inspect the values held in the 'tmax1' and 'jump'\n",
    "variables to infer what the code does."
   ]
  },
  {
   "cell_type": "code",
   "execution_count": null,
   "metadata": {},
   "outputs": [],
   "source": [
    "df[\"tmax1\"] = df.groupby(\"id\")[\"tmax\"].shift(1)\n",
    "df[\"jump\"] = df[\"tmax\"] - df[\"tmax1\"]\n",
    "x = df.groupby([\"id\", \"year\"])[\"jump\"].min().median()"
   ]
  },
  {
   "cell_type": "markdown",
   "metadata": {},
   "source": [
    "3.1 Determine for each station how many valid (non-missing) 'tmax'\n",
    "values the station has for the 10-year period from January 1, 2000\n",
    "to Deember 31, 2004.  How many stations have a complete record of\n",
    "data during this period?  Choose one such station and use it to\n",
    "answer the remaining parts of this question."
   ]
  },
  {
   "cell_type": "code",
   "execution_count": null,
   "metadata": {},
   "outputs": [],
   "source": [
    "0"
   ]
  },
  {
   "cell_type": "markdown",
   "metadata": {},
   "source": [
    "3.2 Make a time series plot for the 'tmax' values from the station\n",
    "that you selected above.  Since the time series is long, use\n",
    "'plt.figure(figsize=(10, 5))' to make the plot wider than the\n",
    "default."
   ]
  },
  {
   "cell_type": "code",
   "execution_count": null,
   "metadata": {},
   "outputs": [],
   "source": [
    "0"
   ]
  },
  {
   "cell_type": "markdown",
   "metadata": {},
   "source": [
    "3.3 If 'da' is the dataframe for the station that you selected in\n",
    "part 1, use '(da.date - da.date.min()).dt.days' to create a variable\n",
    "counting the days from 0 (January 1, 2000) through the end of the\n",
    "series.  Then use 'lowess' to smooth the 'tmax' values for this\n",
    "station against this variable.  Plot the resulting fitted curve on\n",
    "the same plot as the raw data plotted in 3.2.  Adjust the 'frac'\n",
    "parameter of the 'lowess' method to get a good fit."
   ]
  },
  {
   "cell_type": "code",
   "execution_count": null,
   "metadata": {},
   "outputs": [],
   "source": [
    "0"
   ]
  },
  {
   "cell_type": "markdown",
   "metadata": {},
   "source": [
    "3.4 Calculate residuals by subtracting the fitted lowess values that\n",
    "you obtained above from the observed 'tmax' values.  Take the\n",
    "absolute values of these residuals and use lowess to estimate their\n",
    "conditional mean on each day.  As above, you may need to adjust the\n",
    "'frac' parameter to get a good fit.  What is your interpretation of\n",
    "these conditional mean values?"
   ]
  },
  {
   "cell_type": "code",
   "execution_count": null,
   "metadata": {},
   "outputs": [],
   "source": [
    "0"
   ]
  }
 ],
 "metadata": {
  "jupytext": {
   "cell_metadata_filter": "-all",
   "main_language": "python",
   "notebook_metadata_filter": "-all"
  },
  "kernelspec": {
   "display_name": "Python 3",
   "language": "python",
   "name": "python3"
  },
  "language_info": {
   "codemirror_mode": {
    "name": "ipython",
    "version": 3
   },
   "file_extension": ".py",
   "mimetype": "text/x-python",
   "name": "python",
   "nbconvert_exporter": "python",
   "pygments_lexer": "ipython3",
   "version": "3.7.3"
  }
 },
 "nbformat": 4,
 "nbformat_minor": 2
}
