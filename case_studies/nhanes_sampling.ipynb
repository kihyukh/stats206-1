{
 "cells": [
  {
   "cell_type": "markdown",
   "metadata": {},
   "source": [
    "# NHANES"
   ]
  },
  {
   "cell_type": "markdown",
   "metadata": {},
   "source": [
    "The National Health and Nutrition Examination Survey (NHANES) is a\n",
    "cross sectional observational study run every 2-3 years by the\n",
    "United States Centers for Disease Control (CDC).  It collects\n",
    "extensive demographic and health-related data on a representative\n",
    "sample of the US population."
   ]
  },
  {
   "cell_type": "markdown",
   "metadata": {},
   "source": [
    "In this notebook, we will use the NHANES data to illustrate some\n",
    "basic ideas relating to sampling distributions, including standard\n",
    "errors, the law of large numbers, and the central limit theorem."
   ]
  },
  {
   "cell_type": "markdown",
   "metadata": {},
   "source": [
    "First we import the libraries that we will be using."
   ]
  },
  {
   "cell_type": "code",
   "execution_count": null,
   "metadata": {},
   "outputs": [],
   "source": [
    "import numpy as np\n",
    "import pandas as pd\n",
    "import seaborn as sns\n",
    "import matplotlib.pyplot as plt\n",
    "import os"
   ]
  },
  {
   "cell_type": "markdown",
   "metadata": {},
   "source": [
    "We will be simulating data in this notebook.  To make the results\n",
    "reproducible, we will set the seed of the random number generator to\n",
    "a fixed value."
   ]
  },
  {
   "cell_type": "code",
   "execution_count": null,
   "metadata": {},
   "outputs": [],
   "source": [
    "np.random.seed(34324)"
   ]
  },
  {
   "cell_type": "markdown",
   "metadata": {},
   "source": [
    "Modify this string according to your section number (001 or 002):"
   ]
  },
  {
   "cell_type": "code",
   "execution_count": null,
   "metadata": {},
   "outputs": [],
   "source": [
    "f = \"stats206s002f21\""
   ]
  },
  {
   "cell_type": "markdown",
   "metadata": {},
   "source": [
    "Now we load the NHANES data from a file."
   ]
  },
  {
   "cell_type": "code",
   "execution_count": null,
   "metadata": {},
   "outputs": [],
   "source": [
    "base = \"/scratch/%s_class_root/%s_class/shared_data/datasets\" % (f, f)\n",
    "df = pd.read_csv(os.path.join(base, \"nhanes.csv.gz\"))"
   ]
  },
  {
   "cell_type": "markdown",
   "metadata": {},
   "source": [
    "Here we will be focusing on blood pressure, which is mostly relevant\n",
    "for adults.  Therefore we exclude people under the age of 18."
   ]
  },
  {
   "cell_type": "code",
   "execution_count": null,
   "metadata": {},
   "outputs": [],
   "source": [
    "df = df.loc[df[\"RIDAGEYR\"] >= 18, :]"
   ]
  },
  {
   "cell_type": "markdown",
   "metadata": {},
   "source": [
    "For this notebook, we only need three variables:"
   ]
  },
  {
   "cell_type": "code",
   "execution_count": null,
   "metadata": {},
   "outputs": [],
   "source": [
    "dx = df[[\"RIDAGEYR\", \"RIAGENDR\", \"BPXSY1\"]].dropna()"
   ]
  },
  {
   "cell_type": "markdown",
   "metadata": {},
   "source": [
    "# Blood pressure means in sex by age strata"
   ]
  },
  {
   "cell_type": "markdown",
   "metadata": {},
   "source": [
    "To begin, we construct a stratified age variable, constructing five\n",
    "bins with roughly equal sample sizes.  The pandas method `qcut`\n",
    "stands for _quantile cut_, and is used to create a sequence of\n",
    "categories from a quantitative variable based on its quantiles.  In\n",
    "this case, we are using the quintiles of age to form five strata."
   ]
  },
  {
   "cell_type": "code",
   "execution_count": null,
   "metadata": {
    "lines_to_next_cell": 1
   },
   "outputs": [],
   "source": [
    "dx[\"Age_strat\"] = pd.qcut(dx.RIDAGEYR, 5)"
   ]
  },
  {
   "cell_type": "markdown",
   "metadata": {},
   "source": [
    "There is no built-in function for calculating the standard error of\n",
    "the mean (SEM), so we provide that here:"
   ]
  },
  {
   "cell_type": "code",
   "execution_count": null,
   "metadata": {
    "lines_to_next_cell": 1
   },
   "outputs": [],
   "source": [
    "def calc_sem(x):\n",
    "    return x.std() / np.sqrt(len(x))"
   ]
  },
  {
   "cell_type": "markdown",
   "metadata": {},
   "source": [
    "Next we create a table showing the mean, standard error, sample\n",
    "size, and standard error of the mean (SEM) for 10 age x sex strata.\n",
    "In NHANES, females are coded as 2 and males are coded as 1."
   ]
  },
  {
   "cell_type": "code",
   "execution_count": null,
   "metadata": {},
   "outputs": [],
   "source": [
    "r = dx.groupby([\"RIAGENDR\", \"Age_strat\"])[\"BPXSY1\"].aggregate([np.mean, np.std, np.size, calc_sem])\n",
    "r"
   ]
  },
  {
   "cell_type": "markdown",
   "metadata": {},
   "source": [
    "The table above shows, as expected, that older people tend to have\n",
    "higher blood pressure than younger people.  Also, except for the\n",
    "oldest age band, males of a given age tend to have higher blood\n",
    "pressure than females of the same age.  In the highest age band, the\n",
    "relationship between sex and blood pressure is reversed.  This could\n",
    "be due to \"survivorship bias\", which is a form of selection bias.\n",
    "Many of the males with very high blood pressure have died by this\n",
    "point, leaving behind only the relatively healthier males."
   ]
  },
  {
   "cell_type": "markdown",
   "metadata": {},
   "source": [
    "The table also reveals substantial heteroscedasticity -- the\n",
    "standard deviations are larger in the strata for older people, which\n",
    "also happen to have greater means.  Thus, these data exhibit a\n",
    "_location/dispersion relationship_.  When the location (mean) is\n",
    "greater, then the dispersion (standard deviation) is also greater.\n",
    "Since the standard error of the mean depends on the standard\n",
    "deviation, the SEM is larger for the strata containing older people.\n",
    "Thus, we are estimating the population mean less precisely in the\n",
    "older age bands."
   ]
  },
  {
   "cell_type": "markdown",
   "metadata": {},
   "source": [
    "# Simulation study for the standard error of the mean"
   ]
  },
  {
   "cell_type": "markdown",
   "metadata": {},
   "source": [
    "First we will perform a simulation study to illustrate how the\n",
    "standard error of the mean behaves as we vary the sample size, and\n",
    "when sampling from distributions with different levels of\n",
    "dispersion.  The simulation study will focus on the strata for the\n",
    "youngest and oldest bands of women in the population.  Below we\n",
    "extract the data for these subjects."
   ]
  },
  {
   "cell_type": "code",
   "execution_count": null,
   "metadata": {},
   "outputs": [],
   "source": [
    "a1 = dx[\"Age_strat\"].cat.categories[0] # youngest women\n",
    "v1 = dx.loc[(dx[\"Age_strat\"] == a1) & (dx[\"RIAGENDR\"] == 2), \"BPXSY1\"]\n",
    "a2 = dx[\"Age_strat\"].cat.categories[-1] # oldest women\n",
    "v2 = dx.loc[(dx[\"Age_strat\"] == a2) & (dx[\"RIAGENDR\"] == 2), \"BPXSY1\"]"
   ]
  },
  {
   "cell_type": "markdown",
   "metadata": {},
   "source": [
    "Since we are focusing on dispersion here, we will remove the means\n",
    "to make it easier to make comparisons."
   ]
  },
  {
   "cell_type": "code",
   "execution_count": null,
   "metadata": {},
   "outputs": [],
   "source": [
    "v1 -= v1.mean()\n",
    "v2 -= v2.mean()"
   ]
  },
  {
   "cell_type": "markdown",
   "metadata": {},
   "source": [
    "As intended, the data from older women (right side below) are more\n",
    "dispersed than the data for younger women (left side below)."
   ]
  },
  {
   "cell_type": "code",
   "execution_count": null,
   "metadata": {},
   "outputs": [],
   "source": [
    "sns.boxplot(data=[v1, v2])"
   ]
  },
  {
   "cell_type": "markdown",
   "metadata": {},
   "source": [
    "The following code generates sample means by randomly drawing\n",
    "subsets from the two NHANES strata selected above.  For each\n",
    "stratum, we sample 100 independent subsets of sizes ranging from 10\n",
    "to 160, then take the sample mean of each subset that we obtain."
   ]
  },
  {
   "cell_type": "code",
   "execution_count": null,
   "metadata": {},
   "outputs": [],
   "source": [
    "ns = [10, 20, 40, 80, 160] # Sample sizes to generate\n",
    "x, nl = [], []\n",
    "for v in v1, v2:\n",
    "    for n in ns:\n",
    "        # Generate 100 datasets by sampling n values from either\n",
    "        # v1 or v2, then take the mean of each sampled dataset.\n",
    "        y = [np.mean(np.random.choice(v, n)) for _ in range(100)]\n",
    "        x.append(y) # sample means\n",
    "        nl.append(n) # sample size"
   ]
  },
  {
   "cell_type": "markdown",
   "metadata": {},
   "source": [
    "The plot below illustrates how the sample means taken from samples\n",
    "of different sizes, and from different populations, differ in terms\n",
    "of their level of dispersion.  There is evidently less dispersion as\n",
    "the sample size grows, reflecting the presence of the factor of\n",
    "$1/\\sqrt{n}$ in the standard error of the mean.  Also, the sample\n",
    "means for the older stratum (right half of the plot), which is a\n",
    "parent population with greater dispersion, are themselves more\n",
    "dispersed.  This reflects that presence of the factor of $\\sigma$ in\n",
    "the standard error of the mean."
   ]
  },
  {
   "cell_type": "code",
   "execution_count": null,
   "metadata": {},
   "outputs": [],
   "source": [
    "plt.clf()\n",
    "plt.boxplot(x)\n",
    "plt.xticks(range(1, 11), nl)\n",
    "plt.xlabel(\"Sample size\")\n",
    "plt.ylabel(\"Sample means\")"
   ]
  },
  {
   "cell_type": "markdown",
   "metadata": {},
   "source": [
    "# Simulation study for the sampling distribution of the mean"
   ]
  },
  {
   "cell_type": "markdown",
   "metadata": {},
   "source": [
    "Next we will perform a simulation study to illustrate the sampling\n",
    "distribution of the mean.  The simulation study will focus on the\n",
    "stratum for the the first row of the table above (the youngest band\n",
    "of men).  First we extract the values from this row into separate\n",
    "variables:"
   ]
  },
  {
   "cell_type": "code",
   "execution_count": null,
   "metadata": {},
   "outputs": [],
   "source": [
    "m, s, n, sem = tuple(r.iloc[0, :])\n",
    "n = int(n)"
   ]
  },
  {
   "cell_type": "markdown",
   "metadata": {},
   "source": [
    "Next we generate 1000 data sets, each with the same mean, standard\n",
    "deviation and sample size as the selected stratum of people from the\n",
    "actual NHANES data.  The data here are simulated using a normal\n",
    "distribution, but below we will consider other distributions."
   ]
  },
  {
   "cell_type": "code",
   "execution_count": null,
   "metadata": {},
   "outputs": [],
   "source": [
    "x = [m + np.random.normal(size=n)*s for _ in range(1000)]"
   ]
  },
  {
   "cell_type": "markdown",
   "metadata": {},
   "source": [
    "Next we calculate the sample mean from each simulated data set:"
   ]
  },
  {
   "cell_type": "code",
   "execution_count": null,
   "metadata": {},
   "outputs": [],
   "source": [
    "y1 = [u.mean() for u in x]"
   ]
  },
  {
   "cell_type": "markdown",
   "metadata": {},
   "source": [
    "The following histogram shows how the simulated sample means are\n",
    "distributed.  The sample mean value that was actually obtained in\n",
    "the NHANES study could be any one value drawn from this\n",
    "distribution."
   ]
  },
  {
   "cell_type": "code",
   "execution_count": null,
   "metadata": {},
   "outputs": [],
   "source": [
    "sns.distplot(y1)\n",
    "plt.xlabel(\"Sample mean\")"
   ]
  },
  {
   "cell_type": "markdown",
   "metadata": {},
   "source": [
    "A probability distribution called the _gamma distribution_ is skewed\n",
    "and produces only positive values.  Next we repeat the simulation\n",
    "above, using gamma-distributed rather than normally distributed\n",
    "values.  You do not need to know the details of how the gamma\n",
    "parameters are determined below."
   ]
  },
  {
   "cell_type": "code",
   "execution_count": null,
   "metadata": {},
   "outputs": [],
   "source": [
    "a = (m / s)**2\n",
    "b = s**2 / m\n",
    "x = [np.random.gamma(a, b, size=n) for _ in range(1000)]\n",
    "y2 = [u.mean() for u in x]\n",
    "sns.distplot(y2)\n",
    "plt.xlabel(\"Sample mean\")"
   ]
  },
  {
   "cell_type": "markdown",
   "metadata": {},
   "source": [
    "A third way to do the simulation is to randomly select from the\n",
    "observed data.  Since we want to randomly select n values, and the\n",
    "observed data consist only of n values, we have to select \"with\n",
    "replacement\".  If we selected \"without replacement\" we would get\n",
    "exactly the same values in each sample, hence the means would be the\n",
    "same and the resulting distribution would have zero variance."
   ]
  },
  {
   "cell_type": "code",
   "execution_count": null,
   "metadata": {},
   "outputs": [],
   "source": [
    "ax = dx[\"Age_strat\"].cat.categories[0]\n",
    "v = dx.loc[(dx[\"Age_strat\"] == ax) & (dx[\"RIAGENDR\"] == 1), \"BPXSY1\"]\n",
    "x = [np.random.choice(v, n, replace=True) for _ in range(1000)]\n",
    "y3 = [u.mean() for u in x]\n",
    "sns.distplot(y3)\n",
    "plt.xlabel(\"Sample mean\")"
   ]
  },
  {
   "cell_type": "markdown",
   "metadata": {},
   "source": [
    "The above three plots illustrate central limit theorem (CLT).  In\n",
    "each case, we are calculating sample means of independent and\n",
    "identically distributed (iid) samples of size 539 (since this is the\n",
    "size of the first stratum shown in the table above).  In the first\n",
    "case, the data are sampled from a normal distribution, in the second\n",
    "case, the data are sampled from a gamma distribution, and in the\n",
    "third case, the data are sampled with replacement from the observed\n",
    "NHANES data.  The distributions of sample means in the three cases\n",
    "appear quite similar.  The CLT argues that the distribution of\n",
    "sample means has a distribution that does not depend on the\n",
    "distribution of the individual data values.  Moreover, this\n",
    "distribution, according to the CLT, is approximately normal."
   ]
  },
  {
   "cell_type": "markdown",
   "metadata": {},
   "source": [
    "Recall that a quantile-quantile (QQ) plot aids in determining\n",
    "whether two samples of data follow distributions that are related by\n",
    "a linear transformation.  Thus, we can sample 1000 iid standard\n",
    "normal values, then construct QQ plots comparing these values to\n",
    "each of the three sets of sample means constructed above.  If these\n",
    "plots are approximately linear, this means that the sample means\n",
    "approximately follow normal distributions."
   ]
  },
  {
   "cell_type": "code",
   "execution_count": null,
   "metadata": {},
   "outputs": [],
   "source": [
    "z = np.random.normal(size=1000)"
   ]
  },
  {
   "cell_type": "code",
   "execution_count": null,
   "metadata": {},
   "outputs": [],
   "source": [
    "plt.clf()\n",
    "plt.plot(np.sort(z), np.sort(y1), 'o')\n",
    "plt.grid(True)"
   ]
  },
  {
   "cell_type": "code",
   "execution_count": null,
   "metadata": {},
   "outputs": [],
   "source": [
    "plt.clf()\n",
    "plt.plot(np.sort(z), np.sort(y2), 'o')\n",
    "plt.grid(True)"
   ]
  },
  {
   "cell_type": "code",
   "execution_count": null,
   "metadata": {},
   "outputs": [],
   "source": [
    "plt.clf()\n",
    "plt.plot(np.sort(z), np.sort(y3), 'o')\n",
    "plt.grid(True)"
   ]
  },
  {
   "cell_type": "markdown",
   "metadata": {},
   "source": [
    "Although there are some small deviations in the tails, the three\n",
    "plots above show overwhelmingly linear patterns, supporting the\n",
    "argument that the sample means derived from normal or gamma\n",
    "distributions, or by resampling from the observed data, all produce\n",
    "sample means that are approximately normally distributed."
   ]
  },
  {
   "cell_type": "markdown",
   "metadata": {},
   "source": [
    "## Law of large numbers"
   ]
  },
  {
   "cell_type": "markdown",
   "metadata": {},
   "source": [
    "Now we will use simulation to illustrate the law of large numbers\n",
    "(LLN).  The LLN argues that if we take the sample mean of $n$ iid\n",
    "values, say $\\bar{x}^{(n)} = (x_1 + \\cdots + x_n)/n$, and then let\n",
    "$n$ grow, as if you were obtaining larger and larger data sets, then\n",
    "$\\bar{x}^{(n)}$ will converge to the expected value $E[x]$ of the\n",
    "data that you are sampling."
   ]
  },
  {
   "cell_type": "markdown",
   "metadata": {},
   "source": [
    "We will illustrate the LLN using data for the blood pressure values\n",
    "for the youngest band of females in NHANES."
   ]
  },
  {
   "cell_type": "code",
   "execution_count": null,
   "metadata": {},
   "outputs": [],
   "source": [
    "ax = dx[\"Age_strat\"].cat.categories[0]\n",
    "v = dx.loc[(dx[\"Age_strat\"] == ax) & (dx[\"RIAGENDR\"] == 2), \"BPXSY1\"]"
   ]
  },
  {
   "cell_type": "markdown",
   "metadata": {},
   "source": [
    "The following code generates 20 permuted versions of the data in\n",
    "'v', and \"cumulatively averages\" the data.  For example, if our data\n",
    "were [2, 4, 6], then the cumulative averages are [2, 3, 6] -- each\n",
    "cumulative average is the regular average of an initial sequence of\n",
    "the data values."
   ]
  },
  {
   "cell_type": "code",
   "execution_count": null,
   "metadata": {},
   "outputs": [],
   "source": [
    "n = np.arange(1, len(v)+1)"
   ]
  },
  {
   "cell_type": "markdown",
   "metadata": {},
   "source": [
    "Plotting one cumulative average shows us what we might have obtained\n",
    "had we recalculated the sample mean each time we obtained data for\n",
    "one additional person.  We don't know what the population mean is\n",
    "for these data, but the sample mean is converging to a value of\n",
    "around 111 for the finite set of data that we have.  According to\n",
    "the LLN, if we continued this process with greater values of n, we\n",
    "would converge in the limit to the population mean blood pressure\n",
    "(for the subpopulation of subjects considered here)."
   ]
  },
  {
   "cell_type": "code",
   "execution_count": null,
   "metadata": {},
   "outputs": [],
   "source": [
    "y = np.cumsum(v) / n\n",
    "plt.clf()\n",
    "plt.figure(figsize=(8, 6))\n",
    "plt.grid(True)\n",
    "plt.plot(n, y, '-', color='black')\n",
    "plt.xlabel(\"Sample size\")\n",
    "plt.ylabel(\"Average value\")"
   ]
  },
  {
   "cell_type": "markdown",
   "metadata": {},
   "source": [
    "To see what we might have obtained had we sampled the people in our\n",
    "study in a different order, we can repeat this process, randomly\n",
    "permuting the values for each sample.  You do not need to understand\n",
    "the details of the code below."
   ]
  },
  {
   "cell_type": "code",
   "execution_count": null,
   "metadata": {},
   "outputs": [],
   "source": [
    "x = [np.cumsum(np.random.choice(v, len(v), replace=False))/n for _ in range(20)]"
   ]
  },
  {
   "cell_type": "markdown",
   "metadata": {},
   "source": [
    "Next we plot each of these random \"trajectories\" of cumulative\n",
    "averages."
   ]
  },
  {
   "cell_type": "code",
   "execution_count": null,
   "metadata": {},
   "outputs": [],
   "source": [
    "plt.clf()\n",
    "plt.figure(figsize=(8, 6))\n",
    "plt.grid(True)\n",
    "for y in x:\n",
    "    plt.plot(n, y, '-', color='grey', alpha=0.5)\n",
    "plt.xlabel(\"Sample size\")\n",
    "plt.ylabel(\"Average value\")"
   ]
  },
  {
   "cell_type": "markdown",
   "metadata": {},
   "source": [
    "In the above plot, you can see that all of the sequences of\n",
    "cumulative averages seem to be converging to the same limit (we\n",
    "cannot actually see the limit since we are working with finite\n",
    "samples).  Some \"unlucky\" trajectories are quite far off even when\n",
    "the sample size is 100, but even these unlucky trajectories\n",
    "eventually become similar to the others."
   ]
  }
 ],
 "metadata": {
  "jupytext": {
   "cell_metadata_filter": "-all",
   "main_language": "python",
   "notebook_metadata_filter": "-all"
  }
 },
 "nbformat": 4,
 "nbformat_minor": 2
}
