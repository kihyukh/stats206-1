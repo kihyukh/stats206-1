{
 "cells": [
  {
   "cell_type": "markdown",
   "metadata": {},
   "source": [
    "# Workbook for NHANES data"
   ]
  },
  {
   "cell_type": "code",
   "execution_count": null,
   "metadata": {},
   "outputs": [],
   "source": [
    "import numpy as np\n",
    "import pandas as pd\n",
    "import seaborn as sns\n",
    "import matplotlib.pyplot as plt\n",
    "import os"
   ]
  },
  {
   "cell_type": "code",
   "execution_count": null,
   "metadata": {},
   "outputs": [],
   "source": [
    "np.random.seed(34324)"
   ]
  },
  {
   "cell_type": "code",
   "execution_count": null,
   "metadata": {},
   "outputs": [],
   "source": [
    "base = \"/scratch/stats206w21_class_root/stats206w21_class/shared_data/datasets\"\n",
    "df = pd.read_csv(os.path.join(base, \"nhanes.csv.gz\"))\n",
    "df = df.loc[df[\"RIDAGEYR\"] >= 18, :]\n",
    "df = df.dropna()"
   ]
  },
  {
   "cell_type": "markdown",
   "metadata": {},
   "source": [
    "Restrict the dataset to females between the ages of 18 and 70.\n",
    "Calculate the mean height (BMXHT), the variance of the height, and\n",
    "the sample size for this subset of the data.  Then calculate the\n",
    "standard error of the mean for the mean height in this subsample."
   ]
  },
  {
   "cell_type": "code",
   "execution_count": null,
   "metadata": {},
   "outputs": [],
   "source": [
    "0"
   ]
  },
  {
   "cell_type": "markdown",
   "metadata": {},
   "source": [
    "Use the method `round(-1)` to create a variable that indicates a\n",
    "person's decade of age.  Then use `groupby` to calculate the sample\n",
    "size, standard deviation, and standard error of the mean (SEM) for\n",
    "height (BMXHT) within each decade.  Note which decade has the\n",
    "largest SEM, and consider whether this SEM being large is due to the\n",
    "standard deviation (SD) or the sample size."
   ]
  },
  {
   "cell_type": "code",
   "execution_count": null,
   "metadata": {},
   "outputs": [],
   "source": [
    "0"
   ]
  },
  {
   "cell_type": "markdown",
   "metadata": {},
   "source": [
    "Use a loop to generate 100 subsets of size 50 from the height data\n",
    "selected above.  Calculate the sample mean and sample variance of\n",
    "each subset.  Then take the variance of the sample mean, the\n",
    "variance of the sample variances, and the mean of the sample\n",
    "variances.  How are these values related?  Then repeat the exercise\n",
    "using samples of size 200 and consider how the results change."
   ]
  },
  {
   "cell_type": "code",
   "execution_count": null,
   "metadata": {},
   "outputs": [],
   "source": [
    "0"
   ]
  },
  {
   "cell_type": "markdown",
   "metadata": {},
   "source": [
    "Use a loop to calculate the sample correlation coefficient between\n",
    "BMI (BMXBMI) and blood pressure (BPXSY1), for the first `k`\n",
    "observations in the dataset.  The loop should run over values of `k`\n",
    "from 10 to the total sample size.  Plot these correlations against\n",
    "`k` and consider what result from probability theory is being\n",
    "illustrated here."
   ]
  },
  {
   "cell_type": "code",
   "execution_count": null,
   "metadata": {},
   "outputs": [],
   "source": [
    "0"
   ]
  },
  {
   "cell_type": "markdown",
   "metadata": {},
   "source": [
    "Generate a set of 100,000 values by forming `0.1 + z^2`, where `z`\n",
    "follows a standard normal distribution.  Calculate the mean and\n",
    "variance of these 100,000 values.  Then, within each iteration of a\n",
    "loop, generate 20 values in this same way.  Retain the sample mean\n",
    "and sample standard deviation of each set of 20 values. Then,\n",
    "calculate the standard deviation of these sample means, and the mean\n",
    "of the sample standard deviations.  Use these findings to validate\n",
    "the SEM in this setting."
   ]
  },
  {
   "cell_type": "code",
   "execution_count": null,
   "metadata": {},
   "outputs": [],
   "source": [
    "0"
   ]
  },
  {
   "cell_type": "markdown",
   "metadata": {},
   "source": [
    "Sample 50 females at random and 50 males at random, then calculate\n",
    "the sample mean and sample standard deviation for systolic blood\n",
    "pressure within each of these two samples.  Calculate the difference\n",
    "between these two means, and calculate the standard error for this\n",
    "difference.  Place this all into a loop that iterates 200 times.\n",
    "Once the loop has completed, calculate the standard deviation of the\n",
    "200 mean differences, and the mean of the 200 standard errors.  Use\n",
    "these results to assess the validity of your standard error\n",
    "calculation."
   ]
  },
  {
   "cell_type": "code",
   "execution_count": null,
   "metadata": {},
   "outputs": [],
   "source": [
    "0"
   ]
  }
 ],
 "metadata": {
  "jupytext": {
   "cell_metadata_filter": "-all",
   "main_language": "python",
   "notebook_metadata_filter": "-all"
  }
 },
 "nbformat": 4,
 "nbformat_minor": 2
}
