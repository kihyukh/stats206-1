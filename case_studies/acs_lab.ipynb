{
 "cells": [
  {
   "cell_type": "markdown",
   "metadata": {},
   "source": [
    "# Workbook for American Community Survey data"
   ]
  },
  {
   "cell_type": "code",
   "execution_count": null,
   "metadata": {},
   "outputs": [],
   "source": [
    "import pandas as pd\n",
    "import numpy as np\n",
    "import os"
   ]
  },
  {
   "cell_type": "markdown",
   "metadata": {},
   "source": [
    "Modify this string according to your section number (001 or 002):"
   ]
  },
  {
   "cell_type": "code",
   "execution_count": null,
   "metadata": {},
   "outputs": [],
   "source": [
    "f = \"stats206s002f21\""
   ]
  },
  {
   "cell_type": "markdown",
   "metadata": {},
   "source": [
    "Next we load the data from the filesystem into a dataframe."
   ]
  },
  {
   "cell_type": "code",
   "execution_count": null,
   "metadata": {},
   "outputs": [],
   "source": [
    "base = \"/scratch/%s_class_root/%s_class/shared_data/datasets\" % (f, f)\n",
    "df = pd.read_csv(os.path.join(base, \"pums_short.csv.gz\"))"
   ]
  },
  {
   "cell_type": "markdown",
   "metadata": {},
   "source": [
    "The variable named `VALP` contains the value of a property owned by\n",
    "members of a household which is also their residence (this includes\n",
    "properties held with a mortgage).  The variable named `RNTP`\n",
    "contains the amount of rent paid per month.  According to ACS\n",
    "definitions, each household can be a renter or an owner, but not\n",
    "both.  Also, some households are neither renters nor owners.\n",
    "Therefore, each row of the dataframe may contain a non-NaN value for\n",
    "`RNTP` or for `VALP`, but never for both.  Some rows of the\n",
    "dataframe may have NaN values for both `RNTP` and for `VALP`.  The\n",
    "following steps confirm these expectations.  You can complete these\n",
    "exercises using combinations of `dropna`, `shape`, and `size`, along\n",
    "with selecting one or more columns of data using syntax like\n",
    "`df[\"x\"]` and `df[[\"x\", \"y\"]]`."
   ]
  },
  {
   "cell_type": "markdown",
   "metadata": {},
   "source": [
    "How many rows are in the dataframe?"
   ]
  },
  {
   "cell_type": "code",
   "execution_count": null,
   "metadata": {},
   "outputs": [],
   "source": [
    "0"
   ]
  },
  {
   "cell_type": "markdown",
   "metadata": {},
   "source": [
    "How many rows in the dataframe have a non-NaN value of `VALP`?"
   ]
  },
  {
   "cell_type": "code",
   "execution_count": null,
   "metadata": {},
   "outputs": [],
   "source": [
    "0"
   ]
  },
  {
   "cell_type": "markdown",
   "metadata": {},
   "source": [
    "How many rows in the dataframe have a non-NaN value of `RNTP`?"
   ]
  },
  {
   "cell_type": "code",
   "execution_count": null,
   "metadata": {},
   "outputs": [],
   "source": [
    "0"
   ]
  },
  {
   "cell_type": "markdown",
   "metadata": {},
   "source": [
    "Confirm that no row in the dataframe has a non-NaN value for both\n",
    "`VALP` and `RNTP`."
   ]
  },
  {
   "cell_type": "code",
   "execution_count": null,
   "metadata": {},
   "outputs": [],
   "source": [
    "0"
   ]
  },
  {
   "cell_type": "markdown",
   "metadata": {},
   "source": [
    "The numbers for `VALP` tend to be large.  Create a new version of\n",
    "`VALP` called `VALPx` which contains the property values in units of\n",
    "thousands of dollars."
   ]
  },
  {
   "cell_type": "code",
   "execution_count": null,
   "metadata": {},
   "outputs": [],
   "source": [
    "0"
   ]
  },
  {
   "cell_type": "markdown",
   "metadata": {},
   "source": [
    "What are the deciles of VALPx?"
   ]
  },
  {
   "cell_type": "code",
   "execution_count": null,
   "metadata": {},
   "outputs": [],
   "source": [
    "0"
   ]
  },
  {
   "cell_type": "markdown",
   "metadata": {},
   "source": [
    "Calculate the median and MAD of `VALPx` within levels of the family\n",
    "structure/employment type variable `FES`.  Is there a\n",
    "location/dispersion relationship between the median and MAD such\n",
    "that when comparing two levels of FES, if the median is greater in\n",
    "one level then the MAD is also greater in that level?"
   ]
  },
  {
   "cell_type": "code",
   "execution_count": null,
   "metadata": {},
   "outputs": [],
   "source": [
    "0"
   ]
  },
  {
   "cell_type": "markdown",
   "metadata": {},
   "source": [
    "Use `groupby` and `transform` to construct median residuals for\n",
    "`VALPx` around the FES-specific medians, and around the\n",
    "REGION-specific medians.  Calculate the IQR of each set of residuals\n",
    "and compare them.  What can you conclude by observing that one set\n",
    "of residuals has a smaller IQR than the other?"
   ]
  },
  {
   "cell_type": "code",
   "execution_count": null,
   "metadata": {},
   "outputs": [],
   "source": [
    "0"
   ]
  },
  {
   "cell_type": "markdown",
   "metadata": {},
   "source": [
    "Calculate the median rent (`RNTP`) and the median property value\n",
    "(`VALPx`) for each state (using groupby/aggregate).  Then take the\n",
    "ratio between these values (for each state).  Which state has the\n",
    "greatest and smallest ratio?  What is the ratio between the greatest\n",
    "and smallest ratio?"
   ]
  },
  {
   "cell_type": "code",
   "execution_count": null,
   "metadata": {},
   "outputs": [],
   "source": [
    "0"
   ]
  },
  {
   "cell_type": "markdown",
   "metadata": {},
   "source": [
    "Using the data in the `FPARC` variable, create a new binary\n",
    "(False/True) variable that indicates whether the household has\n",
    "\"related children\" (i.e. children related to the household heads)\n",
    "living at home.  You might want to use the `isin` method to\n",
    "accomplish this."
   ]
  },
  {
   "cell_type": "code",
   "execution_count": null,
   "metadata": {},
   "outputs": [],
   "source": [
    "0"
   ]
  },
  {
   "cell_type": "markdown",
   "metadata": {},
   "source": [
    "Compare the property values for households with and without related\n",
    "children at home."
   ]
  },
  {
   "cell_type": "code",
   "execution_count": null,
   "metadata": {},
   "outputs": [],
   "source": [
    "0"
   ]
  },
  {
   "cell_type": "markdown",
   "metadata": {},
   "source": [
    "Use `groupby/describe` to obtain summary statistics for every\n",
    "combination of the `DIVISION` variable and the variable that you\n",
    "created above indicating whether the household has related children\n",
    "at home.  Do these summary statistics suggest a consistent\n",
    "stochastic ordering within every DIVISION level between the property\n",
    "values for households with and without children?"
   ]
  },
  {
   "cell_type": "code",
   "execution_count": null,
   "metadata": {},
   "outputs": [],
   "source": [
    "0"
   ]
  },
  {
   "cell_type": "markdown",
   "metadata": {},
   "source": [
    "Calculate the log property values, then calculate the mean value for\n",
    "each `DIVISION` of `VALP` and its log transformed version.  If you\n",
    "sort the means for `VALP`, are they also sorted for the means of the\n",
    "log-transformed data?"
   ]
  },
  {
   "cell_type": "code",
   "execution_count": null,
   "metadata": {},
   "outputs": [],
   "source": [
    "0"
   ]
  },
  {
   "cell_type": "markdown",
   "metadata": {},
   "source": [
    "Create a dataframe containing the 25th, 50th, and 75th percentiles\n",
    "for the values of the log-transformed `VALP` within each `DIVISION`.\n",
    "You can do this using `groupby` then `quantile`.  The result will be\n",
    "in long form.  Use \"unstack\" to convert it to wide form."
   ]
  },
  {
   "cell_type": "code",
   "execution_count": null,
   "metadata": {},
   "outputs": [],
   "source": [
    "0"
   ]
  },
  {
   "cell_type": "markdown",
   "metadata": {},
   "source": [
    "Take what you did in the previous cell, then extend it to obtain the\n",
    "quantile skew of log property value within every `DIVISION`."
   ]
  },
  {
   "cell_type": "code",
   "execution_count": null,
   "metadata": {},
   "outputs": [],
   "source": [
    "0"
   ]
  }
 ],
 "metadata": {
  "jupytext": {
   "cell_metadata_filter": "-all",
   "main_language": "python",
   "notebook_metadata_filter": "-all"
  }
 },
 "nbformat": 4,
 "nbformat_minor": 2
}
